{
 "cells": [
  {
   "cell_type": "code",
   "execution_count": null,
   "id": "ad089182-1fda-4cbb-b85b-38dd08e0d78b",
   "metadata": {},
   "outputs": [
    {
     "name": "stdout",
     "output_type": "stream",
     "text": [
      "\n",
      "=== Quiz Application ===\n",
      "1. Register\n",
      "2. Login\n",
      "3. Attempt Quiz\n",
      "4. Show Results\n",
      "5. Exit\n"
     ]
    },
    {
     "name": "stdin",
     "output_type": "stream",
     "text": [
      "Enter your choice:  1\n"
     ]
    },
    {
     "name": "stdout",
     "output_type": "stream",
     "text": [
      "=== Registration ===\n"
     ]
    },
    {
     "name": "stdin",
     "output_type": "stream",
     "text": [
      "Enter a username:  student\n",
      "Enter a password:  ········\n"
     ]
    },
    {
     "name": "stdout",
     "output_type": "stream",
     "text": [
      "Registration successful!\n",
      "\n",
      "=== Quiz Application ===\n",
      "1. Register\n",
      "2. Login\n",
      "3. Attempt Quiz\n",
      "4. Show Results\n",
      "5. Exit\n"
     ]
    },
    {
     "name": "stdin",
     "output_type": "stream",
     "text": [
      "Enter your choice:  2\n"
     ]
    },
    {
     "name": "stdout",
     "output_type": "stream",
     "text": [
      "=== Login ===\n"
     ]
    },
    {
     "name": "stdin",
     "output_type": "stream",
     "text": [
      "Enter your username:  student\n",
      "Enter your password:  ········\n"
     ]
    },
    {
     "name": "stdout",
     "output_type": "stream",
     "text": [
      "Login successful!\n",
      "\n",
      "=== Quiz Application ===\n",
      "1. Register\n",
      "2. Login\n",
      "3. Attempt Quiz\n",
      "4. Show Results\n",
      "5. Exit\n"
     ]
    },
    {
     "name": "stdin",
     "output_type": "stream",
     "text": [
      "Enter your choice:  3\n"
     ]
    },
    {
     "name": "stdout",
     "output_type": "stream",
     "text": [
      "Select Quiz Category:\n",
      "1. DSA\n",
      "2. DBMS\n",
      "3. Python\n"
     ]
    },
    {
     "name": "stdin",
     "output_type": "stream",
     "text": [
      "Enter choice:  1\n"
     ]
    },
    {
     "name": "stdout",
     "output_type": "stream",
     "text": [
      "=== Attempting DSA Quiz ===\n",
      "Q1: What is the time complexity of binary search?\n",
      "  A. O(log n)\n",
      "  B. O(n)\n",
      "  C. O(n log n)\n",
      "  D. O(n^2)\n"
     ]
    },
    {
     "name": "stdin",
     "output_type": "stream",
     "text": [
      "Your answer:  a\n"
     ]
    },
    {
     "name": "stdout",
     "output_type": "stream",
     "text": [
      "Q2: Which data structure is used for BFS?\n",
      "  A. Stack\n",
      "  B. Queue\n",
      "  C. Linked List\n",
      "  D. Tree\n"
     ]
    },
    {
     "name": "stdin",
     "output_type": "stream",
     "text": [
      "Your answer:  B\n"
     ]
    },
    {
     "name": "stdout",
     "output_type": "stream",
     "text": [
      "Q3: Which data structure is used for LIFO?\n",
      "  A. Stack\n",
      "  B. Queue\n",
      "  C. Deque\n",
      "  D. Array\n"
     ]
    },
    {
     "name": "stdin",
     "output_type": "stream",
     "text": [
      "Your answer:  A\n"
     ]
    },
    {
     "name": "stdout",
     "output_type": "stream",
     "text": [
      "Q4: In a max heap, where is the largest element stored?\n",
      "  A. Root\n",
      "  B. Leaf\n",
      "  C. Middle\n",
      "  D. Right Child\n"
     ]
    },
    {
     "name": "stdin",
     "output_type": "stream",
     "text": [
      "Your answer:  A\n"
     ]
    },
    {
     "name": "stdout",
     "output_type": "stream",
     "text": [
      "Q5: What is a full binary tree?\n",
      "  A. Tree with all levels full\n",
      "  B. Tree with two children\n",
      "  C. Tree with one child\n",
      "  D. Tree with root only\n"
     ]
    },
    {
     "name": "stdin",
     "output_type": "stream",
     "text": [
      "Your answer:  A\n"
     ]
    },
    {
     "name": "stdout",
     "output_type": "stream",
     "text": [
      "Quiz Completed with 100% success rate!\n",
      "\n",
      "=== Quiz Application ===\n",
      "1. Register\n",
      "2. Login\n",
      "3. Attempt Quiz\n",
      "4. Show Results\n",
      "5. Exit\n"
     ]
    },
    {
     "name": "stdin",
     "output_type": "stream",
     "text": [
      "Enter your choice:  4\n"
     ]
    },
    {
     "name": "stdout",
     "output_type": "stream",
     "text": [
      "=== Results ===\n",
      "DSA: 5/5 correct\n",
      "\n",
      "=== Quiz Application ===\n",
      "1. Register\n",
      "2. Login\n",
      "3. Attempt Quiz\n",
      "4. Show Results\n",
      "5. Exit\n"
     ]
    }
   ],
   "source": [
    "import getpass\n",
    "\n",
    "# Question bank for the quiz\n",
    "quiz_data = {\n",
    "    \"DSA\": {\n",
    "        1: [\"What is the time complexity of binary search?\", \"O(log n)\", \"O(n)\", \"O(n log n)\", \"O(n^2)\", \"A\"],\n",
    "        2: [\"Which data structure is used for BFS?\", \"Stack\", \"Queue\", \"Linked List\", \"Tree\", \"B\"],\n",
    "        3: [\"Which data structure is used for LIFO?\", \"Stack\", \"Queue\", \"Deque\", \"Array\", \"A\"],\n",
    "        4: [\"In a max heap, where is the largest element stored?\", \"Root\", \"Leaf\", \"Middle\", \"Right Child\", \"A\"],\n",
    "        5: [\"What is a full binary tree?\", \"Tree with all levels full\", \"Tree with two children\", \"Tree with one child\", \"Tree with root only\", \"A\"]\n",
    "    },\n",
    "    \"DBMS\": {\n",
    "        1: [\"What is a primary key?\", \"A unique identifier for a record\", \"A foreign key\", \"A composite key\", \"A secondary key\", \"A\"],\n",
    "        2: [\"Which command is used to remove a table in SQL?\", \"DELETE\", \"DROP\", \"REMOVE\", \"ERASE\", \"B\"],\n",
    "        3: [\"What does 'JOIN' in SQL do?\", \"Combines rows\", \"Deletes rows\", \"Sorts rows\", \"Groups rows\", \"A\"],\n",
    "        4: [\"Which SQL clause is used to filter results?\", \"WHERE\", \"GROUP BY\", \"ORDER BY\", \"HAVING\", \"A\"],\n",
    "        5: [\"In a relational database, data is stored in?\", \"Rows\", \"Graphs\", \"Arrays\", \"Documents\", \"A\"]\n",
    "    },\n",
    "    \"Python\": {\n",
    "        1: [\"What keyword is used to define a function in Python?\", \"def\", \"func\", \"function\", \"lambda\", \"A\"],\n",
    "        2: [\"What does 'len()' function do?\", \"Calculates memory size\", \"Counts characters\", \"Returns length\", \"Assigns length\", \"C\"],\n",
    "        3: [\"How do you insert comments in Python code?\", \"//\", \"#\", \"/* */\", \"<!-- -->\", \"B\"],\n",
    "        4: [\"Which library is used for data manipulation?\", \"math\", \"os\", \"pandas\", \"sys\", \"C\"],\n",
    "        5: [\"How to declare a variable in Python?\", \"var x = 5\", \"x = 5\", \"int x = 5\", \"declare x\", \"B\"]\n",
    "    }\n",
    "}\n",
    "\n",
    "# User data dictionary\n",
    "users = {}\n",
    "\n",
    "def register():\n",
    "    \"\"\"Register a new user.\"\"\"\n",
    "    print(\"=== Registration ===\")\n",
    "    username = input(\"Enter a username: \")\n",
    "    if username in users:\n",
    "        print(\"Username already exists!\")\n",
    "        return\n",
    "    password = getpass.getpass(\"Enter a password: \")\n",
    "    users[username] = {\"password\": password, \"scores\": {}}\n",
    "    print(\"Registration successful!\")\n",
    "\n",
    "def login():\n",
    "    \"\"\"Login an existing user.\"\"\"\n",
    "    print(\"=== Login ===\")\n",
    "    username = input(\"Enter your username: \")\n",
    "    password = getpass.getpass(\"Enter your password: \")\n",
    "    if username in users and users[username][\"password\"] == password:\n",
    "        print(\"Login successful!\")\n",
    "        return username\n",
    "    print(\"Invalid username or password!\")\n",
    "    return None\n",
    "\n",
    "def attempt_quiz(username):\n",
    "    \"\"\"Attempt a quiz and enforce 100% correctness.\"\"\"\n",
    "    print(\"Select Quiz Category:\")\n",
    "    for i, category in enumerate(quiz_data.keys(), start=1):\n",
    "        print(f\"{i}. {category}\")\n",
    "    choice = int(input(\"Enter choice: \"))\n",
    "    category = list(quiz_data.keys())[choice - 1]\n",
    "    \n",
    "    questions = quiz_data[category]\n",
    "    while True:\n",
    "        print(f\"=== Attempting {category} Quiz ===\")\n",
    "        correct_answers = 0\n",
    "        for q_num, q_data in questions.items():\n",
    "            print(f\"Q{q_num}: {q_data[0]}\")\n",
    "            for i, option in enumerate(q_data[1:5], start=1):\n",
    "                print(f\"  {chr(64 + i)}. {option}\")\n",
    "            answer = input(\"Your answer: \").upper()\n",
    "            if answer == q_data[5]:\n",
    "                correct_answers += 1\n",
    "            else:\n",
    "                print(f\"Incorrect answer for Q{q_num}. Restarting quiz!\")\n",
    "                break  # Restart quiz immediately if an answer is incorrect\n",
    "        if correct_answers == len(questions):\n",
    "            print(\"Quiz Completed with 100% success rate!\")\n",
    "            users[username][\"scores\"][category] = correct_answers\n",
    "            break\n",
    "        else:\n",
    "            print(\"You must answer all questions correctly to finish the quiz. Restarting...\")\n",
    "\n",
    "def show_results(username):\n",
    "    \"\"\"Show the user's quiz results.\"\"\"\n",
    "    print(\"=== Results ===\")\n",
    "    if users[username][\"scores\"]:\n",
    "        for category, score in users[username][\"scores\"].items():\n",
    "            print(f\"{category}: {score}/{len(quiz_data[category])} correct\")\n",
    "    else:\n",
    "        print(\"No quizzes attempted yet.\")\n",
    "\n",
    "def main():\n",
    "    \"\"\"Main function for the quiz application.\"\"\"\n",
    "    username = None\n",
    "    while True:\n",
    "        print(\"\\n=== Quiz Application ===\")\n",
    "        print(\"1. Register\")\n",
    "        print(\"2. Login\")\n",
    "        print(\"3. Attempt Quiz\")\n",
    "        print(\"4. Show Results\")\n",
    "        print(\"5. Exit\")\n",
    "        choice = input(\"Enter your choice: \")\n",
    "\n",
    "        if choice == \"1\":\n",
    "            register()\n",
    "        elif choice == \"2\":\n",
    "            username = login()\n",
    "        elif choice == \"3\":\n",
    "            if not username:\n",
    "                print(\"Please log in first!\")\n",
    "            else:\n",
    "                attempt_quiz(username)\n",
    "        elif choice == \"4\":\n",
    "            if not username:\n",
    "                print(\"Please log in first!\")\n",
    "            else:\n",
    "                show_results(username)\n",
    "        elif choice == \"5\":\n",
    "            print(\"Exiting Quiz Application. Goodbye!\")\n",
    "            break\n",
    "        else:\n",
    "            print(\"Invalid choice. Please try again.\")\n",
    "\n",
    "# Start the application\n",
    "main()\n"
   ]
  },
  {
   "cell_type": "code",
   "execution_count": null,
   "id": "fa175ef3-7bfa-46e4-a5a2-fd35e8b12a9a",
   "metadata": {},
   "outputs": [],
   "source": []
  }
 ],
 "metadata": {
  "kernelspec": {
   "display_name": "Python 3 (ipykernel)",
   "language": "python",
   "name": "python3"
  },
  "language_info": {
   "codemirror_mode": {
    "name": "ipython",
    "version": 3
   },
   "file_extension": ".py",
   "mimetype": "text/x-python",
   "name": "python",
   "nbconvert_exporter": "python",
   "pygments_lexer": "ipython3",
   "version": "3.12.3"
  }
 },
 "nbformat": 4,
 "nbformat_minor": 5
}
